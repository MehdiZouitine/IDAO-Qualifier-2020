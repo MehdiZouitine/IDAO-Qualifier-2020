{
 "cells": [
  {
   "cell_type": "code",
   "execution_count": 1,
   "metadata": {},
   "outputs": [
    {
     "data": {
      "application/javascript": [
       "\n",
       "            setTimeout(function() {\n",
       "                var nbb_cell_id = 1;\n",
       "                var nbb_unformatted_code = \"%load_ext nb_black\";\n",
       "                var nbb_formatted_code = \"%load_ext nb_black\";\n",
       "                var nbb_cells = Jupyter.notebook.get_cells();\n",
       "                for (var i = 0; i < nbb_cells.length; ++i) {\n",
       "                    if (nbb_cells[i].input_prompt_number == nbb_cell_id) {\n",
       "                        if (nbb_cells[i].get_text() == nbb_unformatted_code) {\n",
       "                             nbb_cells[i].set_text(nbb_formatted_code);\n",
       "                        }\n",
       "                        break;\n",
       "                    }\n",
       "                }\n",
       "            }, 500);\n",
       "            "
      ],
      "text/plain": [
       "<IPython.core.display.Javascript object>"
      ]
     },
     "metadata": {},
     "output_type": "display_data"
    }
   ],
   "source": [
    "%load_ext nb_black"
   ]
  },
  {
   "cell_type": "markdown",
   "metadata": {},
   "source": [
    "# SATELITE PREDICTION"
   ]
  },
  {
   "cell_type": "markdown",
   "metadata": {},
   "source": [
    "#  LOADING DATA"
   ]
  },
  {
   "cell_type": "code",
   "execution_count": 1,
   "metadata": {},
   "outputs": [],
   "source": [
    "from utils import *\n",
    "import warnings\n",
    "\n",
    "warnings.filterwarnings(\"ignore\")"
   ]
  },
  {
   "cell_type": "code",
   "execution_count": 2,
   "metadata": {},
   "outputs": [],
   "source": [
    "train_path = \"train.csv\"\n",
    "test_path = \"test.csv\"\n",
    "submission_path = \"submission.csv\""
   ]
  },
  {
   "cell_type": "code",
   "execution_count": 3,
   "metadata": {},
   "outputs": [],
   "source": [
    "train = pd.read_csv(train_path)\n",
    "test = pd.read_csv(test_path)\n",
    "submission = pd.read_csv(submission_path)"
   ]
  },
  {
   "cell_type": "code",
   "execution_count": 4,
   "metadata": {},
   "outputs": [],
   "source": [
    "train[\"epoch\"] = pd.to_datetime(train[\"epoch\"])\n",
    "test[\"epoch\"] = pd.to_datetime(test[\"epoch\"])"
   ]
  },
  {
   "cell_type": "code",
   "execution_count": 5,
   "metadata": {},
   "outputs": [],
   "source": [
    "train.sort_values([\"sat_id\", \"epoch\"], inplace=True)\n",
    "test.sort_values([\"sat_id\", \"epoch\"], inplace=True)"
   ]
  },
  {
   "cell_type": "markdown",
   "metadata": {},
   "source": [
    "### We concatenate the train and the test to align the periods."
   ]
  },
  {
   "cell_type": "code",
   "execution_count": 6,
   "metadata": {},
   "outputs": [],
   "source": [
    "train[\"test\"] = 0\n",
    "test[\"test\"] = 1\n",
    "tmp = pd.concat([train, test], ignore_index=True)"
   ]
  },
  {
   "cell_type": "markdown",
   "metadata": {},
   "source": [
    "### We calculate the time interval between each satellite observation and we calculate the periods, we then drop the time intervals that are useless."
   ]
  },
  {
   "cell_type": "code",
   "execution_count": 7,
   "metadata": {},
   "outputs": [],
   "source": [
    "tmp = calcul_by_satellite(tmp, period_dt_calcul)\n",
    "tmp.drop(\"dt\", axis=1, inplace=True)"
   ]
  },
  {
   "cell_type": "markdown",
   "metadata": {},
   "source": [
    "### Resplit  train and test"
   ]
  },
  {
   "cell_type": "code",
   "execution_count": 8,
   "metadata": {},
   "outputs": [],
   "source": [
    "train = tmp.query(\"test == 0\")\n",
    "test = tmp.query(\"test == 1\")"
   ]
  },
  {
   "cell_type": "code",
   "execution_count": 9,
   "metadata": {},
   "outputs": [],
   "source": [
    "train.drop([\"test\"], inplace=True, axis=1)\n",
    "test.drop([\"test\"], inplace=True, axis=1)"
   ]
  },
  {
   "cell_type": "markdown",
   "metadata": {},
   "source": [
    "### Fill empty values (just in case)"
   ]
  },
  {
   "cell_type": "code",
   "execution_count": 10,
   "metadata": {},
   "outputs": [],
   "source": [
    "train.fillna(method=\"bfill\", inplace=True)\n",
    "# test.fillna(method='bfill',inplace=True)"
   ]
  },
  {
   "cell_type": "markdown",
   "metadata": {},
   "source": [
    "### We store the dataFrame in a temporary variable because we need to leave it intact to retrieve the val labels and the fit label."
   ]
  },
  {
   "cell_type": "code",
   "execution_count": 11,
   "metadata": {},
   "outputs": [],
   "source": [
    "current = train.copy()"
   ]
  },
  {
   "cell_type": "markdown",
   "metadata": {},
   "source": [
    "# Validation process"
   ]
  },
  {
   "cell_type": "markdown",
   "metadata": {},
   "source": [
    "### We separate our new train in two time intervals, be careful here we separate on current and not on the train (We want to preserve it!)."
   ]
  },
  {
   "cell_type": "code",
   "execution_count": 13,
   "metadata": {},
   "outputs": [
    {
     "data": {
      "application/javascript": [
       "\n",
       "            setTimeout(function() {\n",
       "                var nbb_cell_id = 13;\n",
       "                var nbb_unformatted_code = \"day = 15\\ntrain_before_day, train_after_day = separate(current, day)[0], separate(current, day)[1]\";\n",
       "                var nbb_formatted_code = \"day = 15\\ntrain_before_day, train_after_day = separate(current, day)[0], separate(current, day)[1]\";\n",
       "                var nbb_cells = Jupyter.notebook.get_cells();\n",
       "                for (var i = 0; i < nbb_cells.length; ++i) {\n",
       "                    if (nbb_cells[i].input_prompt_number == nbb_cell_id) {\n",
       "                        if (nbb_cells[i].get_text() == nbb_unformatted_code) {\n",
       "                             nbb_cells[i].set_text(nbb_formatted_code);\n",
       "                        }\n",
       "                        break;\n",
       "                    }\n",
       "                }\n",
       "            }, 500);\n",
       "            "
      ],
      "text/plain": [
       "<IPython.core.display.Javascript object>"
      ]
     },
     "metadata": {},
     "output_type": "display_data"
    }
   ],
   "source": [
    "day = 15\n",
    "train_before_day, train_after_day = separate(current, day)[0], separate(current, day)[1]"
   ]
  },
  {
   "cell_type": "markdown",
   "metadata": {},
   "source": [
    "### We select only the columns that interest us for the fit and the val."
   ]
  },
  {
   "cell_type": "code",
   "execution_count": 14,
   "metadata": {},
   "outputs": [
    {
     "data": {
      "application/javascript": [
       "\n",
       "            setTimeout(function() {\n",
       "                var nbb_cell_id = 14;\n",
       "                var nbb_unformatted_code = \"\\n\\nfit = train_before_day.drop([\\\"id\\\",\\\"x_sim\\\",\\\"y_sim\\\",\\\"z_sim\\\",\\\"Vx_sim\\\",\\\"Vy_sim\\\",\\\"Vz_sim\\\"],axis=1)\\n\\nfit_label = separate(train,day)[0][[\\\"x\\\",\\\"y\\\",\\\"z\\\",\\\"Vx\\\",\\\"Vy\\\",\\\"Vz\\\",\\\"sat_id\\\"]]\\n\\n\\nval = train_after_day.drop([\\\"x_sim\\\",\\\"y_sim\\\",\\\"z_sim\\\",\\\"Vx_sim\\\",\\\"Vy_sim\\\",\\\"Vz_sim\\\",\\\"id\\\"],axis=1)\\n\\nval_label = separate(train,day)[1][[\\\"x\\\",\\\"y\\\",\\\"z\\\",\\\"Vx\\\",\\\"Vy\\\",\\\"Vz\\\",'sat_id','id']]\\n\\nrest_pred = train_after_day[[\\\"id\\\",\\\"sat_id\\\"]]\";\n",
       "                var nbb_formatted_code = \"fit = train_before_day.drop(\\n    [\\\"id\\\", \\\"x_sim\\\", \\\"y_sim\\\", \\\"z_sim\\\", \\\"Vx_sim\\\", \\\"Vy_sim\\\", \\\"Vz_sim\\\"], axis=1\\n)\\n\\nfit_label = separate(train, day)[0][[\\\"x\\\", \\\"y\\\", \\\"z\\\", \\\"Vx\\\", \\\"Vy\\\", \\\"Vz\\\", \\\"sat_id\\\"]]\\n\\n\\nval = train_after_day.drop(\\n    [\\\"x_sim\\\", \\\"y_sim\\\", \\\"z_sim\\\", \\\"Vx_sim\\\", \\\"Vy_sim\\\", \\\"Vz_sim\\\", \\\"id\\\"], axis=1\\n)\\n\\nval_label = separate(train, day)[1][[\\\"x\\\", \\\"y\\\", \\\"z\\\", \\\"Vx\\\", \\\"Vy\\\", \\\"Vz\\\", \\\"sat_id\\\", \\\"id\\\"]]\\n\\nrest_pred = train_after_day[[\\\"id\\\", \\\"sat_id\\\"]]\";\n",
       "                var nbb_cells = Jupyter.notebook.get_cells();\n",
       "                for (var i = 0; i < nbb_cells.length; ++i) {\n",
       "                    if (nbb_cells[i].input_prompt_number == nbb_cell_id) {\n",
       "                        if (nbb_cells[i].get_text() == nbb_unformatted_code) {\n",
       "                             nbb_cells[i].set_text(nbb_formatted_code);\n",
       "                        }\n",
       "                        break;\n",
       "                    }\n",
       "                }\n",
       "            }, 500);\n",
       "            "
      ],
      "text/plain": [
       "<IPython.core.display.Javascript object>"
      ]
     },
     "metadata": {},
     "output_type": "display_data"
    }
   ],
   "source": [
    "\n",
    "\n",
    "fit = train_before_day.drop([\"id\",\"x_sim\",\"y_sim\",\"z_sim\",\"Vx_sim\",\"Vy_sim\",\"Vz_sim\"],axis=1)\n",
    "\n",
    "fit_label = separate(train,day)[0][[\"x\",\"y\",\"z\",\"Vx\",\"Vy\",\"Vz\",\"sat_id\"]]\n",
    "\n",
    "\n",
    "val = train_after_day.drop([\"x_sim\",\"y_sim\",\"z_sim\",\"Vx_sim\",\"Vy_sim\",\"Vz_sim\",\"id\"],axis=1)\n",
    "\n",
    "val_label = separate(train,day)[1][[\"x\",\"y\",\"z\",\"Vx\",\"Vy\",\"Vz\",'sat_id','id']]\n",
    "\n",
    "rest_pred = train_after_day[[\"id\",\"sat_id\"]]\n"
   ]
  },
  {
   "cell_type": "markdown",
   "metadata": {},
   "source": [
    "## Compute on fit"
   ]
  },
  {
   "cell_type": "code",
   "execution_count": 15,
   "metadata": {},
   "outputs": [
    {
     "data": {
      "application/javascript": [
       "\n",
       "            setTimeout(function() {\n",
       "                var nbb_cell_id = 15;\n",
       "                var nbb_unformatted_code = \"fit = calcul_by_satellite(fit, cycle_calcul)\";\n",
       "                var nbb_formatted_code = \"fit = calcul_by_satellite(fit, cycle_calcul)\";\n",
       "                var nbb_cells = Jupyter.notebook.get_cells();\n",
       "                for (var i = 0; i < nbb_cells.length; ++i) {\n",
       "                    if (nbb_cells[i].input_prompt_number == nbb_cell_id) {\n",
       "                        if (nbb_cells[i].get_text() == nbb_unformatted_code) {\n",
       "                             nbb_cells[i].set_text(nbb_formatted_code);\n",
       "                        }\n",
       "                        break;\n",
       "                    }\n",
       "                }\n",
       "            }, 500);\n",
       "            "
      ],
      "text/plain": [
       "<IPython.core.display.Javascript object>"
      ]
     },
     "metadata": {},
     "output_type": "display_data"
    }
   ],
   "source": [
    "fit = calcul_by_satellite(fit, cycle_calcul)"
   ]
  },
  {
   "cell_type": "markdown",
   "metadata": {},
   "source": [
    "## We repeat the first period of the train in the fit"
   ]
  },
  {
   "cell_type": "code",
   "execution_count": 16,
   "metadata": {},
   "outputs": [
    {
     "data": {
      "application/vnd.jupyter.widget-view+json": {
       "model_id": "44f0c12747794ed08c2607a35cc0bfb3",
       "version_major": 2,
       "version_minor": 0
      },
      "text/plain": [
       "HBox(children=(IntProgress(value=0, max=600), HTML(value='')))"
      ]
     },
     "metadata": {},
     "output_type": "display_data"
    },
    {
     "name": "stdout",
     "output_type": "stream",
     "text": [
      "\n"
     ]
    },
    {
     "data": {
      "application/javascript": [
       "\n",
       "            setTimeout(function() {\n",
       "                var nbb_cell_id = 16;\n",
       "                var nbb_unformatted_code = \"fit = repeat_first_per(train_before_day, fit)  # We can optimize this function\";\n",
       "                var nbb_formatted_code = \"fit = repeat_first_per(train_before_day, fit)  # We can optimize this function\";\n",
       "                var nbb_cells = Jupyter.notebook.get_cells();\n",
       "                for (var i = 0; i < nbb_cells.length; ++i) {\n",
       "                    if (nbb_cells[i].input_prompt_number == nbb_cell_id) {\n",
       "                        if (nbb_cells[i].get_text() == nbb_unformatted_code) {\n",
       "                             nbb_cells[i].set_text(nbb_formatted_code);\n",
       "                        }\n",
       "                        break;\n",
       "                    }\n",
       "                }\n",
       "            }, 500);\n",
       "            "
      ],
      "text/plain": [
       "<IPython.core.display.Javascript object>"
      ]
     },
     "metadata": {},
     "output_type": "display_data"
    }
   ],
   "source": [
    "fit = repeat_first_per(train_before_day, fit)  # We can optimize this function"
   ]
  },
  {
   "cell_type": "markdown",
   "metadata": {},
   "source": [
    "## Compute val cycle"
   ]
  },
  {
   "cell_type": "code",
   "execution_count": 23,
   "metadata": {},
   "outputs": [
    {
     "data": {
      "application/javascript": [
       "\n",
       "            setTimeout(function() {\n",
       "                var nbb_cell_id = 23;\n",
       "                var nbb_unformatted_code = \"val = calcul_by_satellite(val, cycle_calcul)\";\n",
       "                var nbb_formatted_code = \"val = calcul_by_satellite(val, cycle_calcul)\";\n",
       "                var nbb_cells = Jupyter.notebook.get_cells();\n",
       "                for (var i = 0; i < nbb_cells.length; ++i) {\n",
       "                    if (nbb_cells[i].input_prompt_number == nbb_cell_id) {\n",
       "                        if (nbb_cells[i].get_text() == nbb_unformatted_code) {\n",
       "                             nbb_cells[i].set_text(nbb_formatted_code);\n",
       "                        }\n",
       "                        break;\n",
       "                    }\n",
       "                }\n",
       "            }, 500);\n",
       "            "
      ],
      "text/plain": [
       "<IPython.core.display.Javascript object>"
      ]
     },
     "metadata": {},
     "output_type": "display_data"
    }
   ],
   "source": [
    "val = calcul_by_satellite(val, cycle_calcul)"
   ]
  },
  {
   "cell_type": "code",
   "execution_count": 24,
   "metadata": {},
   "outputs": [
    {
     "data": {
      "text/html": [
       "<div>\n",
       "<style scoped>\n",
       "    .dataframe tbody tr th:only-of-type {\n",
       "        vertical-align: middle;\n",
       "    }\n",
       "\n",
       "    .dataframe tbody tr th {\n",
       "        vertical-align: top;\n",
       "    }\n",
       "\n",
       "    .dataframe thead th {\n",
       "        text-align: right;\n",
       "    }\n",
       "</style>\n",
       "<table border=\"1\" class=\"dataframe\">\n",
       "  <thead>\n",
       "    <tr style=\"text-align: right;\">\n",
       "      <th></th>\n",
       "      <th>Vx</th>\n",
       "      <th>Vy</th>\n",
       "      <th>Vz</th>\n",
       "      <th>sat_id</th>\n",
       "      <th>x</th>\n",
       "      <th>y</th>\n",
       "      <th>z</th>\n",
       "      <th>period</th>\n",
       "      <th>cycle</th>\n",
       "    </tr>\n",
       "  </thead>\n",
       "  <tbody>\n",
       "    <tr>\n",
       "      <td>464</td>\n",
       "      <td>1.164458</td>\n",
       "      <td>-0.172971</td>\n",
       "      <td>2.691682</td>\n",
       "      <td>0</td>\n",
       "      <td>2547.770935</td>\n",
       "      <td>-39617.771874</td>\n",
       "      <td>6960.838287</td>\n",
       "      <td>7</td>\n",
       "      <td>0</td>\n",
       "    </tr>\n",
       "    <tr>\n",
       "      <td>465</td>\n",
       "      <td>1.098782</td>\n",
       "      <td>0.457837</td>\n",
       "      <td>2.522866</td>\n",
       "      <td>0</td>\n",
       "      <td>5729.546164</td>\n",
       "      <td>-39197.570080</td>\n",
       "      <td>14291.169898</td>\n",
       "      <td>8</td>\n",
       "      <td>0</td>\n",
       "    </tr>\n",
       "    <tr>\n",
       "      <td>466</td>\n",
       "      <td>0.996558</td>\n",
       "      <td>1.001706</td>\n",
       "      <td>2.272088</td>\n",
       "      <td>0</td>\n",
       "      <td>8673.544191</td>\n",
       "      <td>-37132.414730</td>\n",
       "      <td>21027.789795</td>\n",
       "      <td>9</td>\n",
       "      <td>0</td>\n",
       "    </tr>\n",
       "    <tr>\n",
       "      <td>467</td>\n",
       "      <td>0.866281</td>\n",
       "      <td>1.464646</td>\n",
       "      <td>1.958794</td>\n",
       "      <td>0</td>\n",
       "      <td>11290.138540</td>\n",
       "      <td>-33657.584731</td>\n",
       "      <td>26970.314515</td>\n",
       "      <td>10</td>\n",
       "      <td>0</td>\n",
       "    </tr>\n",
       "    <tr>\n",
       "      <td>468</td>\n",
       "      <td>0.713236</td>\n",
       "      <td>1.851735</td>\n",
       "      <td>1.595038</td>\n",
       "      <td>0</td>\n",
       "      <td>13508.709516</td>\n",
       "      <td>-28992.406198</td>\n",
       "      <td>31961.792120</td>\n",
       "      <td>11</td>\n",
       "      <td>0</td>\n",
       "    </tr>\n",
       "    <tr>\n",
       "      <td>...</td>\n",
       "      <td>...</td>\n",
       "      <td>...</td>\n",
       "      <td>...</td>\n",
       "      <td>...</td>\n",
       "      <td>...</td>\n",
       "      <td>...</td>\n",
       "      <td>...</td>\n",
       "      <td>...</td>\n",
       "      <td>...</td>\n",
       "    </tr>\n",
       "    <tr>\n",
       "      <td>649907</td>\n",
       "      <td>-1.604980</td>\n",
       "      <td>3.219404</td>\n",
       "      <td>0.090053</td>\n",
       "      <td>599</td>\n",
       "      <td>-20751.580366</td>\n",
       "      <td>-15862.254305</td>\n",
       "      <td>5185.802272</td>\n",
       "      <td>16</td>\n",
       "      <td>38</td>\n",
       "    </tr>\n",
       "    <tr>\n",
       "      <td>649908</td>\n",
       "      <td>-0.876992</td>\n",
       "      <td>3.663390</td>\n",
       "      <td>-0.084036</td>\n",
       "      <td>599</td>\n",
       "      <td>-22620.279726</td>\n",
       "      <td>-10717.768931</td>\n",
       "      <td>5192.966657</td>\n",
       "      <td>17</td>\n",
       "      <td>38</td>\n",
       "    </tr>\n",
       "    <tr>\n",
       "      <td>649909</td>\n",
       "      <td>0.006030</td>\n",
       "      <td>3.963108</td>\n",
       "      <td>-0.278490</td>\n",
       "      <td>599</td>\n",
       "      <td>-23288.937188</td>\n",
       "      <td>-5011.995253</td>\n",
       "      <td>4925.091680</td>\n",
       "      <td>18</td>\n",
       "      <td>38</td>\n",
       "    </tr>\n",
       "    <tr>\n",
       "      <td>649910</td>\n",
       "      <td>1.041712</td>\n",
       "      <td>4.050118</td>\n",
       "      <td>-0.488054</td>\n",
       "      <td>599</td>\n",
       "      <td>-22525.993612</td>\n",
       "      <td>992.105147</td>\n",
       "      <td>4355.082480</td>\n",
       "      <td>19</td>\n",
       "      <td>38</td>\n",
       "    </tr>\n",
       "    <tr>\n",
       "      <td>649911</td>\n",
       "      <td>2.198501</td>\n",
       "      <td>3.830306</td>\n",
       "      <td>-0.699938</td>\n",
       "      <td>599</td>\n",
       "      <td>-20122.153184</td>\n",
       "      <td>6910.396697</td>\n",
       "      <td>3468.700346</td>\n",
       "      <td>20</td>\n",
       "      <td>38</td>\n",
       "    </tr>\n",
       "  </tbody>\n",
       "</table>\n",
       "<p>335309 rows × 9 columns</p>\n",
       "</div>"
      ],
      "text/plain": [
       "              Vx        Vy        Vz  sat_id             x             y  \\\n",
       "464     1.164458 -0.172971  2.691682       0   2547.770935 -39617.771874   \n",
       "465     1.098782  0.457837  2.522866       0   5729.546164 -39197.570080   \n",
       "466     0.996558  1.001706  2.272088       0   8673.544191 -37132.414730   \n",
       "467     0.866281  1.464646  1.958794       0  11290.138540 -33657.584731   \n",
       "468     0.713236  1.851735  1.595038       0  13508.709516 -28992.406198   \n",
       "...          ...       ...       ...     ...           ...           ...   \n",
       "649907 -1.604980  3.219404  0.090053     599 -20751.580366 -15862.254305   \n",
       "649908 -0.876992  3.663390 -0.084036     599 -22620.279726 -10717.768931   \n",
       "649909  0.006030  3.963108 -0.278490     599 -23288.937188  -5011.995253   \n",
       "649910  1.041712  4.050118 -0.488054     599 -22525.993612    992.105147   \n",
       "649911  2.198501  3.830306 -0.699938     599 -20122.153184   6910.396697   \n",
       "\n",
       "                   z  period  cycle  \n",
       "464      6960.838287       7      0  \n",
       "465     14291.169898       8      0  \n",
       "466     21027.789795       9      0  \n",
       "467     26970.314515      10      0  \n",
       "468     31961.792120      11      0  \n",
       "...              ...     ...    ...  \n",
       "649907   5185.802272      16     38  \n",
       "649908   5192.966657      17     38  \n",
       "649909   4925.091680      18     38  \n",
       "649910   4355.082480      19     38  \n",
       "649911   3468.700346      20     38  \n",
       "\n",
       "[335309 rows x 9 columns]"
      ]
     },
     "execution_count": 24,
     "metadata": {},
     "output_type": "execute_result"
    },
    {
     "data": {
      "application/javascript": [
       "\n",
       "            setTimeout(function() {\n",
       "                var nbb_cell_id = 24;\n",
       "                var nbb_unformatted_code = \"val\";\n",
       "                var nbb_formatted_code = \"val\";\n",
       "                var nbb_cells = Jupyter.notebook.get_cells();\n",
       "                for (var i = 0; i < nbb_cells.length; ++i) {\n",
       "                    if (nbb_cells[i].input_prompt_number == nbb_cell_id) {\n",
       "                        if (nbb_cells[i].get_text() == nbb_unformatted_code) {\n",
       "                             nbb_cells[i].set_text(nbb_formatted_code);\n",
       "                        }\n",
       "                        break;\n",
       "                    }\n",
       "                }\n",
       "            }, 500);\n",
       "            "
      ],
      "text/plain": [
       "<IPython.core.display.Javascript object>"
      ]
     },
     "metadata": {},
     "output_type": "display_data"
    }
   ],
   "source": [
    "val"
   ]
  },
  {
   "cell_type": "markdown",
   "metadata": {},
   "source": [
    "## We repeat the first period of the fit in the val"
   ]
  },
  {
   "cell_type": "code",
   "execution_count": 25,
   "metadata": {},
   "outputs": [
    {
     "data": {
      "application/vnd.jupyter.widget-view+json": {
       "model_id": "b041dea384554f428e3167d0633dd6ea",
       "version_major": 2,
       "version_minor": 0
      },
      "text/plain": [
       "HBox(children=(IntProgress(value=0, max=600), HTML(value='')))"
      ]
     },
     "metadata": {},
     "output_type": "display_data"
    },
    {
     "name": "stdout",
     "output_type": "stream",
     "text": [
      "\n"
     ]
    },
    {
     "data": {
      "application/javascript": [
       "\n",
       "            setTimeout(function() {\n",
       "                var nbb_cell_id = 25;\n",
       "                var nbb_unformatted_code = \"repeat_last_per(train_before_day, val)\";\n",
       "                var nbb_formatted_code = \"repeat_last_per(train_before_day, val)\";\n",
       "                var nbb_cells = Jupyter.notebook.get_cells();\n",
       "                for (var i = 0; i < nbb_cells.length; ++i) {\n",
       "                    if (nbb_cells[i].input_prompt_number == nbb_cell_id) {\n",
       "                        if (nbb_cells[i].get_text() == nbb_unformatted_code) {\n",
       "                             nbb_cells[i].set_text(nbb_formatted_code);\n",
       "                        }\n",
       "                        break;\n",
       "                    }\n",
       "                }\n",
       "            }, 500);\n",
       "            "
      ],
      "text/plain": [
       "<IPython.core.display.Javascript object>"
      ]
     },
     "metadata": {},
     "output_type": "display_data"
    }
   ],
   "source": [
    "repeat_last_per(train_before_day, val)"
   ]
  },
  {
   "cell_type": "code",
   "execution_count": 26,
   "metadata": {},
   "outputs": [
    {
     "data": {
      "text/html": [
       "<div>\n",
       "<style scoped>\n",
       "    .dataframe tbody tr th:only-of-type {\n",
       "        vertical-align: middle;\n",
       "    }\n",
       "\n",
       "    .dataframe tbody tr th {\n",
       "        vertical-align: top;\n",
       "    }\n",
       "\n",
       "    .dataframe thead th {\n",
       "        text-align: right;\n",
       "    }\n",
       "</style>\n",
       "<table border=\"1\" class=\"dataframe\">\n",
       "  <thead>\n",
       "    <tr style=\"text-align: right;\">\n",
       "      <th></th>\n",
       "      <th>Vx</th>\n",
       "      <th>Vy</th>\n",
       "      <th>Vz</th>\n",
       "      <th>sat_id</th>\n",
       "      <th>x</th>\n",
       "      <th>y</th>\n",
       "      <th>z</th>\n",
       "      <th>period</th>\n",
       "      <th>cycle</th>\n",
       "    </tr>\n",
       "  </thead>\n",
       "  <tbody>\n",
       "    <tr>\n",
       "      <td>464</td>\n",
       "      <td>1.164458</td>\n",
       "      <td>-0.172971</td>\n",
       "      <td>2.691682</td>\n",
       "      <td>0</td>\n",
       "      <td>2547.770935</td>\n",
       "      <td>-39617.771874</td>\n",
       "      <td>6960.838287</td>\n",
       "      <td>7</td>\n",
       "      <td>0</td>\n",
       "    </tr>\n",
       "    <tr>\n",
       "      <td>465</td>\n",
       "      <td>1.098782</td>\n",
       "      <td>0.457837</td>\n",
       "      <td>2.522866</td>\n",
       "      <td>0</td>\n",
       "      <td>5729.546164</td>\n",
       "      <td>-39197.570080</td>\n",
       "      <td>14291.169898</td>\n",
       "      <td>8</td>\n",
       "      <td>0</td>\n",
       "    </tr>\n",
       "    <tr>\n",
       "      <td>466</td>\n",
       "      <td>0.996558</td>\n",
       "      <td>1.001706</td>\n",
       "      <td>2.272088</td>\n",
       "      <td>0</td>\n",
       "      <td>8673.544191</td>\n",
       "      <td>-37132.414730</td>\n",
       "      <td>21027.789795</td>\n",
       "      <td>9</td>\n",
       "      <td>0</td>\n",
       "    </tr>\n",
       "    <tr>\n",
       "      <td>467</td>\n",
       "      <td>0.866281</td>\n",
       "      <td>1.464646</td>\n",
       "      <td>1.958794</td>\n",
       "      <td>0</td>\n",
       "      <td>11290.138540</td>\n",
       "      <td>-33657.584731</td>\n",
       "      <td>26970.314515</td>\n",
       "      <td>10</td>\n",
       "      <td>0</td>\n",
       "    </tr>\n",
       "    <tr>\n",
       "      <td>468</td>\n",
       "      <td>0.713236</td>\n",
       "      <td>1.851735</td>\n",
       "      <td>1.595038</td>\n",
       "      <td>0</td>\n",
       "      <td>13508.709516</td>\n",
       "      <td>-28992.406198</td>\n",
       "      <td>31961.792120</td>\n",
       "      <td>11</td>\n",
       "      <td>0</td>\n",
       "    </tr>\n",
       "    <tr>\n",
       "      <td>...</td>\n",
       "      <td>...</td>\n",
       "      <td>...</td>\n",
       "      <td>...</td>\n",
       "      <td>...</td>\n",
       "      <td>...</td>\n",
       "      <td>...</td>\n",
       "      <td>...</td>\n",
       "      <td>...</td>\n",
       "      <td>...</td>\n",
       "    </tr>\n",
       "    <tr>\n",
       "      <td>649907</td>\n",
       "      <td>-1.604980</td>\n",
       "      <td>3.219404</td>\n",
       "      <td>0.090053</td>\n",
       "      <td>599</td>\n",
       "      <td>-20751.580366</td>\n",
       "      <td>-15862.254305</td>\n",
       "      <td>5185.802272</td>\n",
       "      <td>16</td>\n",
       "      <td>38</td>\n",
       "    </tr>\n",
       "    <tr>\n",
       "      <td>649908</td>\n",
       "      <td>-0.876992</td>\n",
       "      <td>3.663390</td>\n",
       "      <td>-0.084036</td>\n",
       "      <td>599</td>\n",
       "      <td>-22620.279726</td>\n",
       "      <td>-10717.768931</td>\n",
       "      <td>5192.966657</td>\n",
       "      <td>17</td>\n",
       "      <td>38</td>\n",
       "    </tr>\n",
       "    <tr>\n",
       "      <td>649909</td>\n",
       "      <td>0.006030</td>\n",
       "      <td>3.963108</td>\n",
       "      <td>-0.278490</td>\n",
       "      <td>599</td>\n",
       "      <td>-23288.937188</td>\n",
       "      <td>-5011.995253</td>\n",
       "      <td>4925.091680</td>\n",
       "      <td>18</td>\n",
       "      <td>38</td>\n",
       "    </tr>\n",
       "    <tr>\n",
       "      <td>649910</td>\n",
       "      <td>1.041712</td>\n",
       "      <td>4.050118</td>\n",
       "      <td>-0.488054</td>\n",
       "      <td>599</td>\n",
       "      <td>-22525.993612</td>\n",
       "      <td>992.105147</td>\n",
       "      <td>4355.082480</td>\n",
       "      <td>19</td>\n",
       "      <td>38</td>\n",
       "    </tr>\n",
       "    <tr>\n",
       "      <td>649911</td>\n",
       "      <td>2.198501</td>\n",
       "      <td>3.830306</td>\n",
       "      <td>-0.699938</td>\n",
       "      <td>599</td>\n",
       "      <td>-20122.153184</td>\n",
       "      <td>6910.396697</td>\n",
       "      <td>3468.700346</td>\n",
       "      <td>20</td>\n",
       "      <td>38</td>\n",
       "    </tr>\n",
       "  </tbody>\n",
       "</table>\n",
       "<p>335309 rows × 9 columns</p>\n",
       "</div>"
      ],
      "text/plain": [
       "              Vx        Vy        Vz  sat_id             x             y  \\\n",
       "464     1.164458 -0.172971  2.691682       0   2547.770935 -39617.771874   \n",
       "465     1.098782  0.457837  2.522866       0   5729.546164 -39197.570080   \n",
       "466     0.996558  1.001706  2.272088       0   8673.544191 -37132.414730   \n",
       "467     0.866281  1.464646  1.958794       0  11290.138540 -33657.584731   \n",
       "468     0.713236  1.851735  1.595038       0  13508.709516 -28992.406198   \n",
       "...          ...       ...       ...     ...           ...           ...   \n",
       "649907 -1.604980  3.219404  0.090053     599 -20751.580366 -15862.254305   \n",
       "649908 -0.876992  3.663390 -0.084036     599 -22620.279726 -10717.768931   \n",
       "649909  0.006030  3.963108 -0.278490     599 -23288.937188  -5011.995253   \n",
       "649910  1.041712  4.050118 -0.488054     599 -22525.993612    992.105147   \n",
       "649911  2.198501  3.830306 -0.699938     599 -20122.153184   6910.396697   \n",
       "\n",
       "                   z  period  cycle  \n",
       "464      6960.838287       7      0  \n",
       "465     14291.169898       8      0  \n",
       "466     21027.789795       9      0  \n",
       "467     26970.314515      10      0  \n",
       "468     31961.792120      11      0  \n",
       "...              ...     ...    ...  \n",
       "649907   5185.802272      16     38  \n",
       "649908   5192.966657      17     38  \n",
       "649909   4925.091680      18     38  \n",
       "649910   4355.082480      19     38  \n",
       "649911   3468.700346      20     38  \n",
       "\n",
       "[335309 rows x 9 columns]"
      ]
     },
     "execution_count": 26,
     "metadata": {},
     "output_type": "execute_result"
    },
    {
     "data": {
      "application/javascript": [
       "\n",
       "            setTimeout(function() {\n",
       "                var nbb_cell_id = 26;\n",
       "                var nbb_unformatted_code = \"val\";\n",
       "                var nbb_formatted_code = \"val\";\n",
       "                var nbb_cells = Jupyter.notebook.get_cells();\n",
       "                for (var i = 0; i < nbb_cells.length; ++i) {\n",
       "                    if (nbb_cells[i].input_prompt_number == nbb_cell_id) {\n",
       "                        if (nbb_cells[i].get_text() == nbb_unformatted_code) {\n",
       "                             nbb_cells[i].set_text(nbb_formatted_code);\n",
       "                        }\n",
       "                        break;\n",
       "                    }\n",
       "                }\n",
       "            }, 500);\n",
       "            "
      ],
      "text/plain": [
       "<IPython.core.display.Javascript object>"
      ]
     },
     "metadata": {},
     "output_type": "display_data"
    }
   ],
   "source": [
    "val"
   ]
  },
  {
   "cell_type": "markdown",
   "metadata": {},
   "source": [
    "## Add somme feature here if you want"
   ]
  },
  {
   "cell_type": "code",
   "execution_count": 27,
   "metadata": {},
   "outputs": [
    {
     "data": {
      "application/javascript": [
       "\n",
       "            setTimeout(function() {\n",
       "                var nbb_cell_id = 27;\n",
       "                var nbb_unformatted_code = \"# fit = feature_by_satellite(fit)\\n# fit = features_by_period(fit)\\n# val = feature_by_satellite(val)\\n# val = features_by_period(val)\";\n",
       "                var nbb_formatted_code = \"# fit = feature_by_satellite(fit)\\n# fit = features_by_period(fit)\\n# val = feature_by_satellite(val)\\n# val = features_by_period(val)\";\n",
       "                var nbb_cells = Jupyter.notebook.get_cells();\n",
       "                for (var i = 0; i < nbb_cells.length; ++i) {\n",
       "                    if (nbb_cells[i].input_prompt_number == nbb_cell_id) {\n",
       "                        if (nbb_cells[i].get_text() == nbb_unformatted_code) {\n",
       "                             nbb_cells[i].set_text(nbb_formatted_code);\n",
       "                        }\n",
       "                        break;\n",
       "                    }\n",
       "                }\n",
       "            }, 500);\n",
       "            "
      ],
      "text/plain": [
       "<IPython.core.display.Javascript object>"
      ]
     },
     "metadata": {},
     "output_type": "display_data"
    }
   ],
   "source": [
    "# fit = feature_by_satellite(fit)\n",
    "# fit = features_by_period(fit)\n",
    "# val = feature_by_satellite(val)\n",
    "# val = features_by_period(val)"
   ]
  },
  {
   "cell_type": "code",
   "execution_count": 28,
   "metadata": {},
   "outputs": [
    {
     "data": {
      "application/javascript": [
       "\n",
       "            setTimeout(function() {\n",
       "                var nbb_cell_id = 28;\n",
       "                var nbb_unformatted_code = \"prediction = separate(train, day)[1][[\\\"id\\\", \\\"sat_id\\\"]]\";\n",
       "                var nbb_formatted_code = \"prediction = separate(train, day)[1][[\\\"id\\\", \\\"sat_id\\\"]]\";\n",
       "                var nbb_cells = Jupyter.notebook.get_cells();\n",
       "                for (var i = 0; i < nbb_cells.length; ++i) {\n",
       "                    if (nbb_cells[i].input_prompt_number == nbb_cell_id) {\n",
       "                        if (nbb_cells[i].get_text() == nbb_unformatted_code) {\n",
       "                             nbb_cells[i].set_text(nbb_formatted_code);\n",
       "                        }\n",
       "                        break;\n",
       "                    }\n",
       "                }\n",
       "            }, 500);\n",
       "            "
      ],
      "text/plain": [
       "<IPython.core.display.Javascript object>"
      ]
     },
     "metadata": {},
     "output_type": "display_data"
    }
   ],
   "source": [
    "prediction = separate(train, day)[1][[\"id\", \"sat_id\"]]"
   ]
  },
  {
   "cell_type": "markdown",
   "metadata": {},
   "source": [
    "### Polynomial regression"
   ]
  },
  {
   "cell_type": "code",
   "execution_count": 31,
   "metadata": {
    "scrolled": true
   },
   "outputs": [
    {
     "data": {
      "application/vnd.jupyter.widget-view+json": {
       "model_id": "4c447594ae6943999516132e9228b51a",
       "version_major": 2,
       "version_minor": 0
      },
      "text/plain": [
       "HBox(children=(IntProgress(value=0, max=600), HTML(value='')))"
      ]
     },
     "metadata": {},
     "output_type": "display_data"
    },
    {
     "name": "stdout",
     "output_type": "stream",
     "text": [
      "\n",
      "Score : 93.47968368515298\n"
     ]
    },
    {
     "data": {
      "application/javascript": [
       "\n",
       "            setTimeout(function() {\n",
       "                var nbb_cell_id = 31;\n",
       "                var nbb_unformatted_code = \"from sklearn.preprocessing import PolynomialFeatures\\n\\npoly = PolynomialFeatures(2)\\n\\n\\ndico = {\\n    \\\"x\\\": [\\\"x\\\", \\\"Vx\\\", \\\"cycle\\\"],\\n    \\\"y\\\": [\\\"y\\\", \\\"Vy\\\", \\\"cycle\\\"],\\n    \\\"z\\\": [\\\"z\\\", \\\"Vz\\\", \\\"cycle\\\"],\\n    \\\"Vx\\\": [\\\"Vx\\\", \\\"x\\\", \\\"cycle\\\"],\\n    \\\"Vy\\\": [\\\"Vy\\\", \\\"y\\\", \\\"cycle\\\"],\\n    \\\"Vz\\\": [\\\"Vz\\\", \\\"z\\\", \\\"cycle\\\"],\\n}\\nfor sat in tqdm_notebook(fit[\\\"sat_id\\\"].unique()):\\n    for target in [\\\"x\\\", \\\"y\\\", \\\"z\\\", \\\"Vx\\\", \\\"Vy\\\", \\\"Vz\\\"]:\\n        # train sur le satelite sat\\n        fit_sat = fit.loc[fit[\\\"sat_id\\\"] == sat]\\n        fit_sat = fit_sat[dico[target]]\\n        fit_sat = poly.fit_transform(fit_sat)\\n\\n        model = LinearRegression(n_jobs=-1)\\n        model.fit(fit_sat, fit_label.query(\\\"sat_id == @sat\\\")[target])\\n        val_sat = val.loc[val[\\\"sat_id\\\"] == sat]\\n        val_sat = val_sat[dico[target]]\\n        val_sat = poly.fit_transform(val_sat)\\n\\n        prediction.loc[prediction[\\\"sat_id\\\"] == sat, target] = model.predict(val_sat)\\n\\ndisplay_smape(prediction, val_label)\";\n",
       "                var nbb_formatted_code = \"from sklearn.preprocessing import PolynomialFeatures\\n\\npoly = PolynomialFeatures(2)\\n\\n\\ndico = {\\n    \\\"x\\\": [\\\"x\\\", \\\"Vx\\\", \\\"cycle\\\"],\\n    \\\"y\\\": [\\\"y\\\", \\\"Vy\\\", \\\"cycle\\\"],\\n    \\\"z\\\": [\\\"z\\\", \\\"Vz\\\", \\\"cycle\\\"],\\n    \\\"Vx\\\": [\\\"Vx\\\", \\\"x\\\", \\\"cycle\\\"],\\n    \\\"Vy\\\": [\\\"Vy\\\", \\\"y\\\", \\\"cycle\\\"],\\n    \\\"Vz\\\": [\\\"Vz\\\", \\\"z\\\", \\\"cycle\\\"],\\n}\\nfor sat in tqdm_notebook(fit[\\\"sat_id\\\"].unique()):\\n    for target in [\\\"x\\\", \\\"y\\\", \\\"z\\\", \\\"Vx\\\", \\\"Vy\\\", \\\"Vz\\\"]:\\n        # train sur le satelite sat\\n        fit_sat = fit.loc[fit[\\\"sat_id\\\"] == sat]\\n        fit_sat = fit_sat[dico[target]]\\n        fit_sat = poly.fit_transform(fit_sat)\\n\\n        model = LinearRegression(n_jobs=-1)\\n        model.fit(fit_sat, fit_label.query(\\\"sat_id == @sat\\\")[target])\\n        val_sat = val.loc[val[\\\"sat_id\\\"] == sat]\\n        val_sat = val_sat[dico[target]]\\n        val_sat = poly.fit_transform(val_sat)\\n\\n        prediction.loc[prediction[\\\"sat_id\\\"] == sat, target] = model.predict(val_sat)\\n\\ndisplay_smape(prediction, val_label)\";\n",
       "                var nbb_cells = Jupyter.notebook.get_cells();\n",
       "                for (var i = 0; i < nbb_cells.length; ++i) {\n",
       "                    if (nbb_cells[i].input_prompt_number == nbb_cell_id) {\n",
       "                        if (nbb_cells[i].get_text() == nbb_unformatted_code) {\n",
       "                             nbb_cells[i].set_text(nbb_formatted_code);\n",
       "                        }\n",
       "                        break;\n",
       "                    }\n",
       "                }\n",
       "            }, 500);\n",
       "            "
      ],
      "text/plain": [
       "<IPython.core.display.Javascript object>"
      ]
     },
     "metadata": {},
     "output_type": "display_data"
    }
   ],
   "source": [
    "from sklearn.preprocessing import PolynomialFeatures\n",
    "\n",
    "poly = PolynomialFeatures(2)\n",
    "\n",
    "\n",
    "dico = {\n",
    "    \"x\": [\"x\", \"Vx\", \"cycle\"],\n",
    "    \"y\": [\"y\", \"Vy\", \"cycle\"],\n",
    "    \"z\": [\"z\", \"Vz\", \"cycle\"],\n",
    "    \"Vx\": [\"Vx\", \"x\", \"cycle\"],\n",
    "    \"Vy\": [\"Vy\", \"y\", \"cycle\"],\n",
    "    \"Vz\": [\"Vz\", \"z\", \"cycle\"],\n",
    "}\n",
    "for sat in tqdm_notebook(fit[\"sat_id\"].unique()):\n",
    "    for target in [\"x\", \"y\", \"z\", \"Vx\", \"Vy\", \"Vz\"]:\n",
    "        # train sur le satelite sat\n",
    "        fit_sat = fit.loc[fit[\"sat_id\"] == sat]\n",
    "        fit_sat = fit_sat[dico[target]]\n",
    "        fit_sat = poly.fit_transform(fit_sat)\n",
    "\n",
    "        model = LinearRegression(n_jobs=-1)\n",
    "        model.fit(fit_sat, fit_label.query(\"sat_id == @sat\")[target])\n",
    "        val_sat = val.loc[val[\"sat_id\"] == sat]\n",
    "        val_sat = val_sat[dico[target]]\n",
    "        val_sat = poly.fit_transform(val_sat)\n",
    "\n",
    "        prediction.loc[prediction[\"sat_id\"] == sat, target] = model.predict(val_sat)\n",
    "\n",
    "display_smape(prediction, val_label)"
   ]
  },
  {
   "cell_type": "markdown",
   "metadata": {},
   "source": [
    "# Model evaluation on test set"
   ]
  },
  {
   "cell_type": "code",
   "execution_count": 12,
   "metadata": {},
   "outputs": [
    {
     "data": {
      "application/vnd.jupyter.widget-view+json": {
       "model_id": "1599583c4f2f43338c4433c45f2c1d52",
       "version_major": 2,
       "version_minor": 0
      },
      "text/plain": [
       "HBox(children=(IntProgress(value=0, max=600), HTML(value='')))"
      ]
     },
     "metadata": {},
     "output_type": "display_data"
    },
    {
     "name": "stdout",
     "output_type": "stream",
     "text": [
      "\n"
     ]
    }
   ],
   "source": [
    "current = repeat_first_per(train, current)\n",
    "current = calcul_by_satellite(current, cycle_calcul)"
   ]
  },
  {
   "cell_type": "markdown",
   "metadata": {},
   "source": [
    "## Compute cycle"
   ]
  },
  {
   "cell_type": "code",
   "execution_count": 13,
   "metadata": {},
   "outputs": [],
   "source": [
    "test = calcul_by_satellite(test, cycle_calcul)"
   ]
  },
  {
   "cell_type": "markdown",
   "metadata": {},
   "source": [
    "## The fit contains the train (where the first period was repeated) and the val contains the last period of the repeated train."
   ]
  },
  {
   "cell_type": "code",
   "execution_count": 14,
   "metadata": {},
   "outputs": [
    {
     "data": {
      "application/vnd.jupyter.widget-view+json": {
       "model_id": "7929b15964cb4207b03331b564100338",
       "version_major": 2,
       "version_minor": 0
      },
      "text/plain": [
       "HBox(children=(IntProgress(value=0, max=300), HTML(value='')))"
      ]
     },
     "metadata": {},
     "output_type": "display_data"
    },
    {
     "name": "stdout",
     "output_type": "stream",
     "text": [
      "\n"
     ]
    }
   ],
   "source": [
    "\n",
    "\n",
    "fit = current.drop([\"id\",\"x_sim\",\"y_sim\",\"z_sim\",\"Vx_sim\",\"Vy_sim\",\"Vz_sim\",\"epoch\"],axis=1).copy()\n",
    "\n",
    "fit_label = train[[\"x\",\"y\",\"z\",\"Vx\",\"Vy\",\"Vz\",\"sat_id\"]]\n",
    "\n",
    "repeat_last_per(train,test)\n",
    "val = test\n",
    "val.drop([\"x_sim\",\"y_sim\",\"z_sim\",\"Vx_sim\",\"Vy_sim\",\"Vz_sim\"],axis=1,inplace=True)\n",
    "\n"
   ]
  },
  {
   "cell_type": "markdown",
   "metadata": {},
   "source": [
    "## Prediction dataframe"
   ]
  },
  {
   "cell_type": "code",
   "execution_count": 15,
   "metadata": {},
   "outputs": [],
   "source": [
    "prediction = test[[\"id\", \"sat_id\"]]"
   ]
  },
  {
   "cell_type": "code",
   "execution_count": 16,
   "metadata": {},
   "outputs": [],
   "source": [
    "val.drop([\"id\", \"epoch\"], inplace=True, axis=1)"
   ]
  },
  {
   "cell_type": "code",
   "execution_count": 21,
   "metadata": {},
   "outputs": [
    {
     "data": {
      "application/vnd.jupyter.widget-view+json": {
       "model_id": "1634d97147e94c6685d686702097c8f5",
       "version_major": 2,
       "version_minor": 0
      },
      "text/plain": [
       "HBox(children=(IntProgress(value=0, max=300), HTML(value='')))"
      ]
     },
     "metadata": {},
     "output_type": "display_data"
    },
    {
     "name": "stdout",
     "output_type": "stream",
     "text": [
      "\n"
     ]
    }
   ],
   "source": [
    "from sklearn.preprocessing import PolynomialFeatures\n",
    "poly = PolynomialFeatures(2)\n",
    "\n",
    "dico = {\"x\" : [\"x\",\"Vx\",\"cycle\"],\n",
    "        \"y\" : [\"y\",\"Vy\",\"cycle\"],\n",
    "        \"z\" : [\"z\",\"Vz\",\"cycle\"],\n",
    "        \"Vx\" : [\"Vx\",\"x\",\"cycle\"],\n",
    "        \"Vy\" : [\"Vy\",\"y\",\"cycle\"],\n",
    "        \"Vz\" : [\"Vz\",\"z\",\"cycle\"]}\n",
    "\n",
    "for sat in tqdm_notebook(val[\"sat_id\"].unique()):\n",
    "    for target in [\"x\",\"y\",\"z\",\"Vx\",\"Vy\",\"Vz\"]:\n",
    "        #train sur le satelite sat\n",
    "        fit_sat = fit.loc[fit['sat_id'] == sat]\n",
    "        fit_sat = fit_sat[dico[target]]\n",
    "        fit_sat = poly.fit_transform(fit_sat)\n",
    "\n",
    "        model = LinearRegression(n_jobs=-1)\n",
    "        model.fit(fit_sat,fit_label.query('sat_id == @sat')[target])\n",
    "        val_sat = val.loc[val['sat_id'] == sat]\n",
    "        val_sat = val_sat[dico[target]]\n",
    "        val_sat = poly.fit_transform(val_sat)\n",
    "\n",
    "        prediction.loc[prediction['sat_id'] == sat,target] = model.predict(val_sat)\n"
   ]
  },
  {
   "cell_type": "code",
   "execution_count": 22,
   "metadata": {},
   "outputs": [],
   "source": [
    "prediction.drop([\"sat_id\"], axis=1, inplace=True)"
   ]
  },
  {
   "cell_type": "code",
   "execution_count": 23,
   "metadata": {},
   "outputs": [
    {
     "data": {
      "text/html": [
       "<div>\n",
       "<style scoped>\n",
       "    .dataframe tbody tr th:only-of-type {\n",
       "        vertical-align: middle;\n",
       "    }\n",
       "\n",
       "    .dataframe tbody tr th {\n",
       "        vertical-align: top;\n",
       "    }\n",
       "\n",
       "    .dataframe thead th {\n",
       "        text-align: right;\n",
       "    }\n",
       "</style>\n",
       "<table border=\"1\" class=\"dataframe\">\n",
       "  <thead>\n",
       "    <tr style=\"text-align: right;\">\n",
       "      <th></th>\n",
       "      <th>id</th>\n",
       "      <th>x</th>\n",
       "      <th>y</th>\n",
       "      <th>z</th>\n",
       "      <th>Vx</th>\n",
       "      <th>Vy</th>\n",
       "      <th>Vz</th>\n",
       "    </tr>\n",
       "  </thead>\n",
       "  <tbody>\n",
       "    <tr>\n",
       "      <td>649912</td>\n",
       "      <td>3927</td>\n",
       "      <td>-24151.505176</td>\n",
       "      <td>-10550.571617</td>\n",
       "      <td>5913.660135</td>\n",
       "      <td>2.378560</td>\n",
       "      <td>-1.367786</td>\n",
       "      <td>1.150305</td>\n",
       "    </tr>\n",
       "    <tr>\n",
       "      <td>649913</td>\n",
       "      <td>3928</td>\n",
       "      <td>-20626.476558</td>\n",
       "      <td>-11992.126719</td>\n",
       "      <td>7125.072025</td>\n",
       "      <td>3.017256</td>\n",
       "      <td>-1.090245</td>\n",
       "      <td>0.946616</td>\n",
       "    </tr>\n",
       "    <tr>\n",
       "      <td>649914</td>\n",
       "      <td>3929</td>\n",
       "      <td>-16355.753387</td>\n",
       "      <td>-13009.351505</td>\n",
       "      <td>8140.398973</td>\n",
       "      <td>3.742219</td>\n",
       "      <td>-0.689965</td>\n",
       "      <td>0.636661</td>\n",
       "    </tr>\n",
       "    <tr>\n",
       "      <td>649915</td>\n",
       "      <td>3930</td>\n",
       "      <td>-11264.756474</td>\n",
       "      <td>-13389.920840</td>\n",
       "      <td>8855.792920</td>\n",
       "      <td>4.552615</td>\n",
       "      <td>-0.071117</td>\n",
       "      <td>0.145050</td>\n",
       "    </tr>\n",
       "    <tr>\n",
       "      <td>649916</td>\n",
       "      <td>3931</td>\n",
       "      <td>-5285.528902</td>\n",
       "      <td>-12751.484795</td>\n",
       "      <td>9068.014769</td>\n",
       "      <td>5.368228</td>\n",
       "      <td>0.995465</td>\n",
       "      <td>-0.710844</td>\n",
       "    </tr>\n",
       "    <tr>\n",
       "      <td>...</td>\n",
       "      <td>...</td>\n",
       "      <td>...</td>\n",
       "      <td>...</td>\n",
       "      <td>...</td>\n",
       "      <td>...</td>\n",
       "      <td>...</td>\n",
       "      <td>...</td>\n",
       "    </tr>\n",
       "    <tr>\n",
       "      <td>933978</td>\n",
       "      <td>1231060</td>\n",
       "      <td>76689.645129</td>\n",
       "      <td>-59341.057426</td>\n",
       "      <td>-531.048166</td>\n",
       "      <td>-0.807003</td>\n",
       "      <td>-1.297647</td>\n",
       "      <td>0.160673</td>\n",
       "    </tr>\n",
       "    <tr>\n",
       "      <td>933979</td>\n",
       "      <td>1231061</td>\n",
       "      <td>69869.540010</td>\n",
       "      <td>-68172.752525</td>\n",
       "      <td>654.086544</td>\n",
       "      <td>-1.041348</td>\n",
       "      <td>-1.096156</td>\n",
       "      <td>0.160328</td>\n",
       "    </tr>\n",
       "    <tr>\n",
       "      <td>933980</td>\n",
       "      <td>1231062</td>\n",
       "      <td>61422.280987</td>\n",
       "      <td>-75424.479820</td>\n",
       "      <td>1825.011828</td>\n",
       "      <td>-1.250180</td>\n",
       "      <td>-0.870089</td>\n",
       "      <td>0.156271</td>\n",
       "    </tr>\n",
       "    <tr>\n",
       "      <td>933981</td>\n",
       "      <td>1231063</td>\n",
       "      <td>51529.213269</td>\n",
       "      <td>-80907.383721</td>\n",
       "      <td>2953.924131</td>\n",
       "      <td>-1.434354</td>\n",
       "      <td>-0.617185</td>\n",
       "      <td>0.148417</td>\n",
       "    </tr>\n",
       "    <tr>\n",
       "      <td>933982</td>\n",
       "      <td>1231064</td>\n",
       "      <td>40372.147237</td>\n",
       "      <td>-84410.475702</td>\n",
       "      <td>4011.276617</td>\n",
       "      <td>-1.592846</td>\n",
       "      <td>-0.333433</td>\n",
       "      <td>0.136404</td>\n",
       "    </tr>\n",
       "  </tbody>\n",
       "</table>\n",
       "<p>284071 rows × 7 columns</p>\n",
       "</div>"
      ],
      "text/plain": [
       "             id             x             y            z        Vx        Vy  \\\n",
       "649912     3927 -24151.505176 -10550.571617  5913.660135  2.378560 -1.367786   \n",
       "649913     3928 -20626.476558 -11992.126719  7125.072025  3.017256 -1.090245   \n",
       "649914     3929 -16355.753387 -13009.351505  8140.398973  3.742219 -0.689965   \n",
       "649915     3930 -11264.756474 -13389.920840  8855.792920  4.552615 -0.071117   \n",
       "649916     3931  -5285.528902 -12751.484795  9068.014769  5.368228  0.995465   \n",
       "...         ...           ...           ...          ...       ...       ...   \n",
       "933978  1231060  76689.645129 -59341.057426  -531.048166 -0.807003 -1.297647   \n",
       "933979  1231061  69869.540010 -68172.752525   654.086544 -1.041348 -1.096156   \n",
       "933980  1231062  61422.280987 -75424.479820  1825.011828 -1.250180 -0.870089   \n",
       "933981  1231063  51529.213269 -80907.383721  2953.924131 -1.434354 -0.617185   \n",
       "933982  1231064  40372.147237 -84410.475702  4011.276617 -1.592846 -0.333433   \n",
       "\n",
       "              Vz  \n",
       "649912  1.150305  \n",
       "649913  0.946616  \n",
       "649914  0.636661  \n",
       "649915  0.145050  \n",
       "649916 -0.710844  \n",
       "...          ...  \n",
       "933978  0.160673  \n",
       "933979  0.160328  \n",
       "933980  0.156271  \n",
       "933981  0.148417  \n",
       "933982  0.136404  \n",
       "\n",
       "[284071 rows x 7 columns]"
      ]
     },
     "execution_count": 23,
     "metadata": {},
     "output_type": "execute_result"
    }
   ],
   "source": [
    "prediction"
   ]
  },
  {
   "cell_type": "code",
   "execution_count": 24,
   "metadata": {},
   "outputs": [],
   "source": [
    "prediction.to_csv(\"pred2.csv\",index=False)"
   ]
  },
  {
   "cell_type": "code",
   "execution_count": null,
   "metadata": {},
   "outputs": [],
   "source": []
  }
 ],
 "metadata": {
  "kernelspec": {
   "display_name": "Python 3",
   "language": "python",
   "name": "python3"
  },
  "language_info": {
   "codemirror_mode": {
    "name": "ipython",
    "version": 3
   },
   "file_extension": ".py",
   "mimetype": "text/x-python",
   "name": "python",
   "nbconvert_exporter": "python",
   "pygments_lexer": "ipython3",
   "version": "3.7.4"
  }
 },
 "nbformat": 4,
 "nbformat_minor": 2
}
